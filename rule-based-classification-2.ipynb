{
 "cells": [
  {
   "cell_type": "code",
   "execution_count": null,
   "id": "229dfbac",
   "metadata": {
    "papermill": {
     "duration": 0.016606,
     "end_time": "2023-06-07T08:20:06.535180",
     "exception": false,
     "start_time": "2023-06-07T08:20:06.518574",
     "status": "completed"
    },
    "tags": []
   },
   "outputs": [],
   "source": []
  },
  {
   "cell_type": "markdown",
   "id": "bd265e67",
   "metadata": {
    "papermill": {
     "duration": 0.012393,
     "end_time": "2023-06-07T08:20:06.560132",
     "exception": false,
     "start_time": "2023-06-07T08:20:06.547739",
     "status": "completed"
    },
    "tags": []
   },
   "source": [
    "# Rule-Based Classification for Calculating Potential Customer Return¶"
   ]
  },
  {
   "cell_type": "markdown",
   "id": "448a77a7",
   "metadata": {
    "papermill": {
     "duration": 0.011802,
     "end_time": "2023-06-07T08:20:06.584851",
     "exception": false,
     "start_time": "2023-06-07T08:20:06.573049",
     "status": "completed"
    },
    "tags": []
   },
   "source": [
    "# Business Problem\n",
    "- A game company wants to create level-based new customer personas using certain characteristics of their customers and estimate how much revenue potential new customers from these segments could bring to the company.\n",
    "- For example, the company wants to determine how much revenue a 25-year-old male user from Turkey, who uses iOS, can potentially generate on average."
   ]
  },
  {
   "cell_type": "markdown",
   "id": "4864bb0c",
   "metadata": {
    "papermill": {
     "duration": 0.011854,
     "end_time": "2023-06-07T08:20:06.609502",
     "exception": false,
     "start_time": "2023-06-07T08:20:06.597648",
     "status": "completed"
    },
    "tags": []
   },
   "source": [
    "# Data Set Story\n",
    "- The \"persona.csv\" dataset contains the prices of products sold by an international game company and includes some demographic information about the users who purchased these products. The dataset consists of records generated from each sales transaction. This means that the table is not de-duplicated. In other words, a user with specific demographic characteristics may have made multiple purchases.\n",
    "\n",
    "- **price**: The amount spent by the customer.\n",
    "- **source**: The type of device the customer is connected to.\n",
    "- **sex**: The gender of the customer.\n",
    "- **country**: The country of the customer.\n",
    "- **age**: The age of the customer."
   ]
  },
  {
   "cell_type": "code",
   "execution_count": 1,
   "id": "a21aaccf",
   "metadata": {
    "execution": {
     "iopub.execute_input": "2023-06-07T08:20:06.635906Z",
     "iopub.status.busy": "2023-06-07T08:20:06.635440Z",
     "iopub.status.idle": "2023-06-07T08:20:09.393979Z",
     "shell.execute_reply": "2023-06-07T08:20:09.392532Z"
    },
    "papermill": {
     "duration": 2.775239,
     "end_time": "2023-06-07T08:20:09.397126",
     "exception": false,
     "start_time": "2023-06-07T08:20:06.621887",
     "status": "completed"
    },
    "tags": []
   },
   "outputs": [],
   "source": [
    "# import Required Libraries\n",
    "import pandas as pd\n",
    "import numpy as np\n",
    "import seaborn as sns\n",
    "import matplotlib.pyplot as plt\n",
    "import plotly.express as px\n",
    "import warnings\n",
    "warnings.simplefilter(action=\"ignore\")"
   ]
  },
  {
   "cell_type": "code",
   "execution_count": 2,
   "id": "72e60284",
   "metadata": {
    "execution": {
     "iopub.execute_input": "2023-06-07T08:20:09.424398Z",
     "iopub.status.busy": "2023-06-07T08:20:09.423661Z",
     "iopub.status.idle": "2023-06-07T08:20:09.430323Z",
     "shell.execute_reply": "2023-06-07T08:20:09.429158Z"
    },
    "papermill": {
     "duration": 0.022678,
     "end_time": "2023-06-07T08:20:09.432836",
     "exception": false,
     "start_time": "2023-06-07T08:20:09.410158",
     "status": "completed"
    },
    "tags": []
   },
   "outputs": [],
   "source": [
    "# Adjusting Row Column Settings\n",
    "pd.set_option(\"display.max_rows\", None)\n",
    "pd.set_option(\"display.max_columns\", None)\n",
    "pd.set_option(\"display.float_format\", lambda x: '%.2f' % x)"
   ]
  },
  {
   "cell_type": "code",
   "execution_count": 3,
   "id": "136ae85c",
   "metadata": {
    "execution": {
     "iopub.execute_input": "2023-06-07T08:20:09.459011Z",
     "iopub.status.busy": "2023-06-07T08:20:09.458310Z",
     "iopub.status.idle": "2023-06-07T08:20:09.495412Z",
     "shell.execute_reply": "2023-06-07T08:20:09.494133Z"
    },
    "papermill": {
     "duration": 0.053253,
     "end_time": "2023-06-07T08:20:09.498364",
     "exception": false,
     "start_time": "2023-06-07T08:20:09.445111",
     "status": "completed"
    },
    "tags": []
   },
   "outputs": [],
   "source": [
    "# Loading the Data Set\n",
    "df = pd.read_csv(\"/kaggle/input/persona-dataset/persona.csv\")"
   ]
  },
  {
   "cell_type": "code",
   "execution_count": 4,
   "id": "96e10147",
   "metadata": {
    "execution": {
     "iopub.execute_input": "2023-06-07T08:20:09.524883Z",
     "iopub.status.busy": "2023-06-07T08:20:09.524229Z",
     "iopub.status.idle": "2023-06-07T08:20:09.555895Z",
     "shell.execute_reply": "2023-06-07T08:20:09.555021Z"
    },
    "papermill": {
     "duration": 0.048483,
     "end_time": "2023-06-07T08:20:09.559216",
     "exception": false,
     "start_time": "2023-06-07T08:20:09.510733",
     "status": "completed"
    },
    "tags": []
   },
   "outputs": [
    {
     "data": {
      "text/html": [
       "<div>\n",
       "<style scoped>\n",
       "    .dataframe tbody tr th:only-of-type {\n",
       "        vertical-align: middle;\n",
       "    }\n",
       "\n",
       "    .dataframe tbody tr th {\n",
       "        vertical-align: top;\n",
       "    }\n",
       "\n",
       "    .dataframe thead th {\n",
       "        text-align: right;\n",
       "    }\n",
       "</style>\n",
       "<table border=\"1\" class=\"dataframe\">\n",
       "  <thead>\n",
       "    <tr style=\"text-align: right;\">\n",
       "      <th></th>\n",
       "      <th>PRICE</th>\n",
       "      <th>SOURCE</th>\n",
       "      <th>SEX</th>\n",
       "      <th>COUNTRY</th>\n",
       "      <th>AGE</th>\n",
       "    </tr>\n",
       "  </thead>\n",
       "  <tbody>\n",
       "    <tr>\n",
       "      <th>0</th>\n",
       "      <td>39</td>\n",
       "      <td>android</td>\n",
       "      <td>male</td>\n",
       "      <td>bra</td>\n",
       "      <td>17</td>\n",
       "    </tr>\n",
       "    <tr>\n",
       "      <th>1</th>\n",
       "      <td>39</td>\n",
       "      <td>android</td>\n",
       "      <td>male</td>\n",
       "      <td>bra</td>\n",
       "      <td>17</td>\n",
       "    </tr>\n",
       "    <tr>\n",
       "      <th>2</th>\n",
       "      <td>49</td>\n",
       "      <td>android</td>\n",
       "      <td>male</td>\n",
       "      <td>bra</td>\n",
       "      <td>17</td>\n",
       "    </tr>\n",
       "    <tr>\n",
       "      <th>3</th>\n",
       "      <td>29</td>\n",
       "      <td>android</td>\n",
       "      <td>male</td>\n",
       "      <td>tur</td>\n",
       "      <td>17</td>\n",
       "    </tr>\n",
       "    <tr>\n",
       "      <th>4</th>\n",
       "      <td>49</td>\n",
       "      <td>android</td>\n",
       "      <td>male</td>\n",
       "      <td>tur</td>\n",
       "      <td>17</td>\n",
       "    </tr>\n",
       "  </tbody>\n",
       "</table>\n",
       "</div>"
      ],
      "text/plain": [
       "   PRICE   SOURCE   SEX COUNTRY  AGE\n",
       "0     39  android  male     bra   17\n",
       "1     39  android  male     bra   17\n",
       "2     49  android  male     bra   17\n",
       "3     29  android  male     tur   17\n",
       "4     49  android  male     tur   17"
      ]
     },
     "execution_count": 4,
     "metadata": {},
     "output_type": "execute_result"
    }
   ],
   "source": [
    "df.head()"
   ]
  },
  {
   "cell_type": "code",
   "execution_count": 5,
   "id": "e364ea7a",
   "metadata": {
    "execution": {
     "iopub.execute_input": "2023-06-07T08:20:09.587909Z",
     "iopub.status.busy": "2023-06-07T08:20:09.587185Z",
     "iopub.status.idle": "2023-06-07T08:20:09.628628Z",
     "shell.execute_reply": "2023-06-07T08:20:09.627143Z"
    },
    "papermill": {
     "duration": 0.059684,
     "end_time": "2023-06-07T08:20:09.632214",
     "exception": false,
     "start_time": "2023-06-07T08:20:09.572530",
     "status": "completed"
    },
    "tags": []
   },
   "outputs": [
    {
     "name": "stdout",
     "output_type": "stream",
     "text": [
      "##################### Shape #####################\n",
      "(5000, 5)\n",
      "##################### Types #####################\n",
      "PRICE       int64\n",
      "SOURCE     object\n",
      "SEX        object\n",
      "COUNTRY    object\n",
      "AGE         int64\n",
      "dtype: object\n",
      "##################### Head #####################\n",
      "   PRICE   SOURCE   SEX COUNTRY  AGE\n",
      "0     39  android  male     bra   17\n",
      "1     39  android  male     bra   17\n",
      "2     49  android  male     bra   17\n",
      "3     29  android  male     tur   17\n",
      "4     49  android  male     tur   17\n",
      "##################### Tail #####################\n",
      "      PRICE   SOURCE     SEX COUNTRY  AGE\n",
      "4995     29  android  female     bra   31\n",
      "4996     29  android  female     bra   31\n",
      "4997     29  android  female     bra   31\n",
      "4998     39  android  female     bra   31\n",
      "4999     29  android  female     bra   31\n",
      "##################### NA #####################\n",
      "PRICE      0\n",
      "SOURCE     0\n",
      "SEX        0\n",
      "COUNTRY    0\n",
      "AGE        0\n",
      "dtype: int64\n",
      "##################### Quantiles #####################\n",
      "        count  mean   std   min    0%    5%   50%   95%   99%  100%   max\n",
      "PRICE 5000.00 34.13 12.46  9.00  9.00 19.00 39.00 49.00 59.00 59.00 59.00\n",
      "AGE   5000.00 23.58  9.00 15.00 15.00 15.00 21.00 43.00 53.00 66.00 66.00\n"
     ]
    }
   ],
   "source": [
    "# Preliminary examination of the data set\n",
    "def check_df(dataframe, head=5):\n",
    "    print('##################### Shape #####################')\n",
    "    print(dataframe.shape)\n",
    "    print('##################### Types #####################')\n",
    "    print(dataframe.dtypes)\n",
    "    print('##################### Head #####################')\n",
    "    print(dataframe.head(head))\n",
    "    print('##################### Tail #####################')\n",
    "    print(dataframe.tail(head))\n",
    "    print('##################### NA #####################')\n",
    "    print(dataframe.isnull().sum())\n",
    "    print('##################### Quantiles #####################')\n",
    "    print(dataframe.describe([0, 0.05, 0.50, 0.95, 0.99, 1]).T)\n",
    "\n",
    "check_df(df)"
   ]
  },
  {
   "cell_type": "code",
   "execution_count": 6,
   "id": "57a19d40",
   "metadata": {
    "execution": {
     "iopub.execute_input": "2023-06-07T08:20:09.662164Z",
     "iopub.status.busy": "2023-06-07T08:20:09.660392Z",
     "iopub.status.idle": "2023-06-07T08:20:09.687918Z",
     "shell.execute_reply": "2023-06-07T08:20:09.685358Z"
    },
    "papermill": {
     "duration": 0.045514,
     "end_time": "2023-06-07T08:20:09.691759",
     "exception": false,
     "start_time": "2023-06-07T08:20:09.646245",
     "status": "completed"
    },
    "tags": []
   },
   "outputs": [
    {
     "name": "stdout",
     "output_type": "stream",
     "text": [
      "Observations: 5000\n",
      "Variables: 5\n",
      "cat_cols: 4\n",
      "num_cols: 1\n",
      "cat_but_car: 0\n",
      "num_but_cat: 1\n"
     ]
    }
   ],
   "source": [
    "# Examination of numerical and categorical variables\n",
    "def grab_col_names(dataframe, cat_th=10, car_th=20):\n",
    "    \"\"\"\n",
    "    Returns the names of categorical, numeric and categorical but cardinal variables in the data set.\n",
    "    Note Categorical variables include categorical variables with numeric appearance.\n",
    "    Parameters\n",
    "    ------\n",
    "         dataframe: dataframe\n",
    "                Dataframe to get variable names\n",
    "        cat_th: int, optional\n",
    "                class threshold for numeric but categorical variables\n",
    "        car_th: int, optinal\n",
    "                class threshold for categorical but cardinal variables\n",
    "    Returns\n",
    "    ------\n",
    "        cat_cols: list\n",
    "                Categorical variable list\n",
    "        num_cols: list\n",
    "                Numeric variable list\n",
    "        cat_but_car: list\n",
    "                List of cardinal variables with categorical view\n",
    "    Examples\n",
    "    ------\n",
    "        import seaborn as sns\n",
    "        df = sns.load_dataset(\"iris\")\n",
    "        print(grab_col_names(df))\n",
    "    Notes\n",
    "    ------\n",
    "        cat_cols + num_cols + cat_but_car = total number of variables\n",
    "        num_but_cat is inside cat_cols.\n",
    "        The sum of the 3 return lists equals the total number of variables: cat_cols + num_cols + cat_but_car = number of variables\n",
    "    \"\"\"\n",
    "\n",
    "    # cat_cols, cat_but_car\n",
    "    cat_cols = [col for col in dataframe.columns if dataframe[col].dtypes == 'O']\n",
    "    num_but_cat = [col for col in dataframe.columns if dataframe[col].nunique() < cat_th and\n",
    "                   dataframe[col].dtypes != 'O']\n",
    "    cat_but_car = [col for col in dataframe.columns if dataframe[col].nunique() > car_th and\n",
    "                   dataframe[col].dtypes == 'O']\n",
    "    cat_cols = cat_cols + num_but_cat\n",
    "    cat_cols = [col for col in cat_cols if col not in cat_but_car]\n",
    "\n",
    "    # num_cols\n",
    "    num_cols = [col for col in dataframe.columns if dataframe[col].dtypes != 'O']\n",
    "    num_cols = [col for col in num_cols if col not in num_but_cat]\n",
    "\n",
    "    print(f'Observations: {dataframe.shape[0]}')\n",
    "    print(f'Variables: {dataframe.shape[1]}')\n",
    "    print(f'cat_cols: {len(cat_cols)}')\n",
    "    print(f'num_cols: {len(num_cols)}')\n",
    "    print(f'cat_but_car: {len(cat_but_car)}')\n",
    "    print(f'num_but_cat: {len(num_but_cat)}')\n",
    "    return cat_cols, num_cols, cat_but_car, num_but_cat\n",
    "\n",
    "cat_cols, num_cols, cat_but_car, num_but_cat = grab_col_names(df)"
   ]
  },
  {
   "cell_type": "code",
   "execution_count": 7,
   "id": "c4d2382a",
   "metadata": {
    "execution": {
     "iopub.execute_input": "2023-06-07T08:20:09.721353Z",
     "iopub.status.busy": "2023-06-07T08:20:09.720119Z",
     "iopub.status.idle": "2023-06-07T08:20:09.728180Z",
     "shell.execute_reply": "2023-06-07T08:20:09.726457Z"
    },
    "papermill": {
     "duration": 0.025075,
     "end_time": "2023-06-07T08:20:09.730900",
     "exception": false,
     "start_time": "2023-06-07T08:20:09.705825",
     "status": "completed"
    },
    "tags": []
   },
   "outputs": [
    {
     "data": {
      "text/plain": [
       "['AGE']"
      ]
     },
     "execution_count": 7,
     "metadata": {},
     "output_type": "execute_result"
    }
   ],
   "source": [
    "num_cols"
   ]
  },
  {
   "cell_type": "code",
   "execution_count": 8,
   "id": "8e9752ac",
   "metadata": {
    "execution": {
     "iopub.execute_input": "2023-06-07T08:20:09.760661Z",
     "iopub.status.busy": "2023-06-07T08:20:09.760220Z",
     "iopub.status.idle": "2023-06-07T08:20:10.955584Z",
     "shell.execute_reply": "2023-06-07T08:20:10.954173Z"
    },
    "papermill": {
     "duration": 1.213886,
     "end_time": "2023-06-07T08:20:10.958841",
     "exception": false,
     "start_time": "2023-06-07T08:20:09.744955",
     "status": "completed"
    },
    "tags": []
   },
   "outputs": [
    {
     "name": "stdout",
     "output_type": "stream",
     "text": [
      "         SOURCE  Ratio\n",
      "android    2974  59.48\n",
      "ios        2026  40.52\n",
      "##########################################\n"
     ]
    },
    {
     "data": {
      "image/png": "[encoded data removed]",
      "text/plain": [
       "<Figure size 640x480 with 1 Axes>"
      ]
     },
     "metadata": {},
     "output_type": "display_data"
    },
    {
     "name": "stdout",
     "output_type": "stream",
     "text": [
      "         SEX  Ratio\n",
      "female  2621  52.42\n",
      "male    2379  47.58\n",
      "##########################################\n"
     ]
    },
    {
     "data": {
      "image/png": "[encoded data removed]",
      "text/plain": [
       "<Figure size 640x480 with 1 Axes>"
      ]
     },
     "metadata": {},
     "output_type": "display_data"
    },
    {
     "name": "stdout",
     "output_type": "stream",
     "text": [
      "     COUNTRY  Ratio\n",
      "usa     2065  41.30\n",
      "bra     1496  29.92\n",
      "deu      455   9.10\n",
      "tur      451   9.02\n",
      "fra      303   6.06\n",
      "can      230   4.60\n",
      "##########################################\n"
     ]
    },
    {
     "data": {
      "image/png": "[encoded data removed]",
      "text/plain": [
       "<Figure size 640x480 with 1 Axes>"
      ]
     },
     "metadata": {},
     "output_type": "display_data"
    },
    {
     "name": "stdout",
     "output_type": "stream",
     "text": [
      "    PRICE  Ratio\n",
      "29   1305  26.10\n",
      "39   1260  25.20\n",
      "49   1031  20.62\n",
      "19    992  19.84\n",
      "59    212   4.24\n",
      "9     200   4.00\n",
      "##########################################\n"
     ]
    },
    {
     "data": {
      "image/png": "[encoded data removed]",
      "text/plain": [
       "<Figure size 640x480 with 1 Axes>"
      ]
     },
     "metadata": {},
     "output_type": "display_data"
    }
   ],
   "source": [
    "# Categorical variable analysis\n",
    "def cat_summary(dataframe, col_name, plot=False):\n",
    "    print(pd.DataFrame({col_name: dataframe[col_name].value_counts(),\n",
    "                        'Ratio': 100 * dataframe[col_name].value_counts() / len(dataframe)}))\n",
    "    print('##########################################')\n",
    "    if plot:\n",
    "        sns.countplot(x=dataframe[col_name], data=dataframe)\n",
    "        plt.show(block=True)\n",
    "\n",
    "for col in cat_cols:\n",
    "    cat_summary(df, col, plot=True)"
   ]
  },
  {
   "cell_type": "code",
   "execution_count": 9,
   "id": "cd29ba98",
   "metadata": {
    "execution": {
     "iopub.execute_input": "2023-06-07T08:20:10.992322Z",
     "iopub.status.busy": "2023-06-07T08:20:10.990880Z",
     "iopub.status.idle": "2023-06-07T08:20:11.456617Z",
     "shell.execute_reply": "2023-06-07T08:20:11.455384Z"
    },
    "papermill": {
     "duration": 0.485679,
     "end_time": "2023-06-07T08:20:11.459307",
     "exception": false,
     "start_time": "2023-06-07T08:20:10.973628",
     "status": "completed"
    },
    "tags": []
   },
   "outputs": [
    {
     "name": "stdout",
     "output_type": "stream",
     "text": [
      "count   5000.00\n",
      "mean      23.58\n",
      "std        9.00\n",
      "min       15.00\n",
      "5%        15.00\n",
      "10%       15.00\n",
      "20%       16.00\n",
      "30%       17.00\n",
      "40%       19.00\n",
      "50%       21.00\n",
      "60%       23.00\n",
      "70%       26.00\n",
      "80%       30.00\n",
      "90%       36.00\n",
      "95%       43.00\n",
      "99%       53.00\n",
      "max       66.00\n",
      "Name: AGE, dtype: float64\n"
     ]
    },
    {
     "data": {
      "image/png": "[encoded data removed]",
      "text/plain": [
       "<Figure size 640x480 with 1 Axes>"
      ]
     },
     "metadata": {},
     "output_type": "display_data"
    }
   ],
   "source": [
    "# Numerical variable analysis\n",
    "def num_summary(dataframe, numerical_col, plot=False):\n",
    "    quantiles = [0.05, 0.10, 0.20, 0.30, 0.40, 0.50, 0.60, 0.70, 0.80, 0.90, 0.95, 0.99]\n",
    "    print(dataframe[numerical_col].describe(quantiles).T)\n",
    "\n",
    "    if plot:\n",
    "        dataframe[numerical_col].hist(bins=20)\n",
    "        plt.xlabel(numerical_col)\n",
    "        plt.title(numerical_col)\n",
    "        plt.show(block=True)\n",
    "\n",
    "for col in num_cols:\n",
    "    num_summary(df, col, plot=True)"
   ]
  },
  {
   "cell_type": "code",
   "execution_count": 10,
   "id": "25f57f26",
   "metadata": {
    "execution": {
     "iopub.execute_input": "2023-06-07T08:20:11.497095Z",
     "iopub.status.busy": "2023-06-07T08:20:11.494800Z",
     "iopub.status.idle": "2023-06-07T08:20:11.511957Z",
     "shell.execute_reply": "2023-06-07T08:20:11.510756Z"
    },
    "papermill": {
     "duration": 0.038968,
     "end_time": "2023-06-07T08:20:11.514553",
     "exception": false,
     "start_time": "2023-06-07T08:20:11.475585",
     "status": "completed"
    },
    "tags": []
   },
   "outputs": [
    {
     "data": {
      "text/plain": [
       "count   5000.00\n",
       "mean      34.13\n",
       "std       12.46\n",
       "min        9.00\n",
       "5%        19.00\n",
       "10%       19.00\n",
       "20%       19.00\n",
       "30%       29.00\n",
       "40%       29.00\n",
       "50%       39.00\n",
       "60%       39.00\n",
       "70%       39.00\n",
       "80%       49.00\n",
       "90%       49.00\n",
       "95%       49.00\n",
       "99%       59.00\n",
       "max       59.00\n",
       "Name: PRICE, dtype: float64"
      ]
     },
     "execution_count": 10,
     "metadata": {},
     "output_type": "execute_result"
    }
   ],
   "source": [
    "df[\"PRICE\"].describe([0.05, 0.10, 0.20, 0.30, 0.40, 0.50, 0.60, 0.70, 0.80, 0.90, 0.95, 0.99]).T"
   ]
  },
  {
   "cell_type": "code",
   "execution_count": 11,
   "id": "9343542e",
   "metadata": {
    "execution": {
     "iopub.execute_input": "2023-06-07T08:20:11.551610Z",
     "iopub.status.busy": "2023-06-07T08:20:11.550250Z",
     "iopub.status.idle": "2023-06-07T08:20:12.933463Z",
     "shell.execute_reply": "2023-06-07T08:20:12.932147Z"
    },
    "papermill": {
     "duration": 1.406097,
     "end_time": "2023-06-07T08:20:12.937068",
     "exception": false,
     "start_time": "2023-06-07T08:20:11.530971",
     "status": "completed"
    },
    "tags": []
   },
   "outputs": [
    {
     "name": "stdout",
     "output_type": "stream",
     "text": [
      "         TARGET_MEAN\n",
      "SOURCE              \n",
      "android        34.17\n",
      "ios            34.07\n",
      "\n",
      "\n"
     ]
    },
    {
     "data": {
      "image/png": "[encoded data removed]",
      "text/plain": [
       "<Figure size 640x480 with 1 Axes>"
      ]
     },
     "metadata": {},
     "output_type": "display_data"
    },
    {
     "name": "stdout",
     "output_type": "stream",
     "text": [
      "        TARGET_MEAN\n",
      "SEX                \n",
      "female        33.95\n",
      "male          34.33\n",
      "\n",
      "\n"
     ]
    },
    {
     "data": {
      "image/png": "[encoded data removed]",
      "text/plain": [
       "<Figure size 640x480 with 1 Axes>"
      ]
     },
     "metadata": {},
     "output_type": "display_data"
    },
    {
     "name": "stdout",
     "output_type": "stream",
     "text": [
      "         TARGET_MEAN\n",
      "COUNTRY             \n",
      "bra            34.33\n",
      "can            33.61\n",
      "deu            34.03\n",
      "fra            33.59\n",
      "tur            34.79\n",
      "usa            34.01\n",
      "\n",
      "\n"
     ]
    },
    {
     "data": {
      "image/png": "[encoded data removed]",
      "text/plain": [
       "<Figure size 640x480 with 1 Axes>"
      ]
     },
     "metadata": {},
     "output_type": "display_data"
    }
   ],
   "source": [
    "# Analysis of categorical variables by target variable\n",
    "def target_summary_with_cat(dataframe, target, categorical_col, plot=False):\n",
    "    print(pd.DataFrame({'TARGET_MEAN': dataframe.groupby(categorical_col)[target].mean()}), end='\\n\\n\\n')\n",
    "    if plot:\n",
    "        sns.barplot(x=categorical_col, y=target, data=dataframe)\n",
    "        plt.show(block=True)\n",
    "\n",
    "for col in cat_cols:\n",
    "    if col == 'PRICE':\n",
    "        continue\n",
    "    else:\n",
    "        target_summary_with_cat(df, 'PRICE', col, plot=True)"
   ]
  },
  {
   "cell_type": "code",
   "execution_count": 12,
   "id": "afc10ca7",
   "metadata": {
    "execution": {
     "iopub.execute_input": "2023-06-07T08:20:12.983481Z",
     "iopub.status.busy": "2023-06-07T08:20:12.982575Z",
     "iopub.status.idle": "2023-06-07T08:20:13.304811Z",
     "shell.execute_reply": "2023-06-07T08:20:13.302832Z"
    },
    "papermill": {
     "duration": 0.349655,
     "end_time": "2023-06-07T08:20:13.307781",
     "exception": false,
     "start_time": "2023-06-07T08:20:12.958126",
     "status": "completed"
    },
    "tags": []
   },
   "outputs": [
    {
     "data": {
      "image/png": "[encoded data removed]",
      "text/plain": [
       "<Figure size 640x480 with 2 Axes>"
      ]
     },
     "metadata": {},
     "output_type": "display_data"
    },
    {
     "data": {
      "text/plain": [
       "PRICE  AGE   0.01\n",
       "dtype: float64"
      ]
     },
     "execution_count": 12,
     "metadata": {},
     "output_type": "execute_result"
    }
   ],
   "source": [
    "# Correlation Analysis of the Variables\n",
    "def df_corr(dataframe, annot=True):\n",
    "    sns.heatmap(dataframe.corr(), annot=annot, linewidths=.2, cmap='Reds', square=True)\n",
    "    plt.show(block=True)\n",
    "\n",
    "def high_correlated_cols(dataframe,head=10):\n",
    "    corr_matrix = dataframe.corr().abs()\n",
    "    corr_cols = (corr_matrix.where(np.triu(np.ones(corr_matrix.shape), k=1)\n",
    "                                   .astype(bool)).stack().sort_values(ascending=False)).head(head)\n",
    "    return corr_cols\n",
    "\n",
    "df_corr(df, annot=False)\n",
    "high_correlated_cols(df, 15)"
   ]
  },
  {
   "cell_type": "code",
   "execution_count": 13,
   "id": "dcacf763",
   "metadata": {
    "execution": {
     "iopub.execute_input": "2023-06-07T08:20:13.347476Z",
     "iopub.status.busy": "2023-06-07T08:20:13.346737Z",
     "iopub.status.idle": "2023-06-07T08:20:13.359473Z",
     "shell.execute_reply": "2023-06-07T08:20:13.358194Z"
    },
    "papermill": {
     "duration": 0.036435,
     "end_time": "2023-06-07T08:20:13.362543",
     "exception": false,
     "start_time": "2023-06-07T08:20:13.326108",
     "status": "completed"
    },
    "tags": []
   },
   "outputs": [],
   "source": [
    "#What are the average earnings by COUNTRY, SOURCE, SEX, AGE?\n",
    "agg_df = df.groupby([\"COUNTRY\", \"SOURCE\", \"SEX\", \"AGE\"]).agg({\"PRICE\": \"mean\"}).sort_values(\"PRICE\", ascending=False)"
   ]
  },
  {
   "cell_type": "code",
   "execution_count": 14,
   "id": "47643bb5",
   "metadata": {
    "execution": {
     "iopub.execute_input": "2023-06-07T08:20:13.405241Z",
     "iopub.status.busy": "2023-06-07T08:20:13.404805Z",
     "iopub.status.idle": "2023-06-07T08:20:13.417603Z",
     "shell.execute_reply": "2023-06-07T08:20:13.416436Z"
    },
    "papermill": {
     "duration": 0.036153,
     "end_time": "2023-06-07T08:20:13.420091",
     "exception": false,
     "start_time": "2023-06-07T08:20:13.383938",
     "status": "completed"
    },
    "tags": []
   },
   "outputs": [
    {
     "data": {
      "text/html": [
       "<div>\n",
       "<style scoped>\n",
       "    .dataframe tbody tr th:only-of-type {\n",
       "        vertical-align: middle;\n",
       "    }\n",
       "\n",
       "    .dataframe tbody tr th {\n",
       "        vertical-align: top;\n",
       "    }\n",
       "\n",
       "    .dataframe thead th {\n",
       "        text-align: right;\n",
       "    }\n",
       "</style>\n",
       "<table border=\"1\" class=\"dataframe\">\n",
       "  <thead>\n",
       "    <tr style=\"text-align: right;\">\n",
       "      <th></th>\n",
       "      <th></th>\n",
       "      <th></th>\n",
       "      <th></th>\n",
       "      <th>PRICE</th>\n",
       "    </tr>\n",
       "    <tr>\n",
       "      <th>COUNTRY</th>\n",
       "      <th>SOURCE</th>\n",
       "      <th>SEX</th>\n",
       "      <th>AGE</th>\n",
       "      <th></th>\n",
       "    </tr>\n",
       "  </thead>\n",
       "  <tbody>\n",
       "    <tr>\n",
       "      <th>bra</th>\n",
       "      <th>android</th>\n",
       "      <th>male</th>\n",
       "      <th>46</th>\n",
       "      <td>59.00</td>\n",
       "    </tr>\n",
       "    <tr>\n",
       "      <th>usa</th>\n",
       "      <th>android</th>\n",
       "      <th>male</th>\n",
       "      <th>36</th>\n",
       "      <td>59.00</td>\n",
       "    </tr>\n",
       "    <tr>\n",
       "      <th>fra</th>\n",
       "      <th>android</th>\n",
       "      <th>female</th>\n",
       "      <th>24</th>\n",
       "      <td>59.00</td>\n",
       "    </tr>\n",
       "    <tr>\n",
       "      <th>usa</th>\n",
       "      <th>ios</th>\n",
       "      <th>male</th>\n",
       "      <th>32</th>\n",
       "      <td>54.00</td>\n",
       "    </tr>\n",
       "    <tr>\n",
       "      <th>deu</th>\n",
       "      <th>android</th>\n",
       "      <th>female</th>\n",
       "      <th>36</th>\n",
       "      <td>49.00</td>\n",
       "    </tr>\n",
       "  </tbody>\n",
       "</table>\n",
       "</div>"
      ],
      "text/plain": [
       "                            PRICE\n",
       "COUNTRY SOURCE  SEX    AGE       \n",
       "bra     android male   46   59.00\n",
       "usa     android male   36   59.00\n",
       "fra     android female 24   59.00\n",
       "usa     ios     male   32   54.00\n",
       "deu     android female 36   49.00"
      ]
     },
     "execution_count": 14,
     "metadata": {},
     "output_type": "execute_result"
    }
   ],
   "source": [
    "agg_df.head()"
   ]
  },
  {
   "cell_type": "code",
   "execution_count": 15,
   "id": "5b9701c4",
   "metadata": {
    "execution": {
     "iopub.execute_input": "2023-06-07T08:20:13.460620Z",
     "iopub.status.busy": "2023-06-07T08:20:13.459929Z",
     "iopub.status.idle": "2023-06-07T08:20:13.467180Z",
     "shell.execute_reply": "2023-06-07T08:20:13.466218Z"
    },
    "papermill": {
     "duration": 0.030307,
     "end_time": "2023-06-07T08:20:13.469779",
     "exception": false,
     "start_time": "2023-06-07T08:20:13.439472",
     "status": "completed"
    },
    "tags": []
   },
   "outputs": [],
   "source": [
    "# Converting the names in the index to variable names.\n",
    "agg_df = agg_df.reset_index()"
   ]
  },
  {
   "cell_type": "code",
   "execution_count": 16,
   "id": "7f53f819",
   "metadata": {
    "execution": {
     "iopub.execute_input": "2023-06-07T08:20:13.507146Z",
     "iopub.status.busy": "2023-06-07T08:20:13.506770Z",
     "iopub.status.idle": "2023-06-07T08:20:13.518572Z",
     "shell.execute_reply": "2023-06-07T08:20:13.517150Z"
    },
    "papermill": {
     "duration": 0.034394,
     "end_time": "2023-06-07T08:20:13.522459",
     "exception": false,
     "start_time": "2023-06-07T08:20:13.488065",
     "status": "completed"
    },
    "tags": []
   },
   "outputs": [
    {
     "data": {
      "text/plain": [
       "count   348.00\n",
       "mean     28.26\n",
       "std      11.38\n",
       "min      15.00\n",
       "25%      19.00\n",
       "50%      25.00\n",
       "75%      34.00\n",
       "max      66.00\n",
       "Name: AGE, dtype: float64"
      ]
     },
     "execution_count": 16,
     "metadata": {},
     "output_type": "execute_result"
    }
   ],
   "source": [
    "agg_df[\"AGE\"].describe()"
   ]
  },
  {
   "cell_type": "code",
   "execution_count": 17,
   "id": "8753967a",
   "metadata": {
    "execution": {
     "iopub.execute_input": "2023-06-07T08:20:13.559932Z",
     "iopub.status.busy": "2023-06-07T08:20:13.559178Z",
     "iopub.status.idle": "2023-06-07T08:20:13.566834Z",
     "shell.execute_reply": "2023-06-07T08:20:13.565218Z"
    },
    "papermill": {
     "duration": 0.029186,
     "end_time": "2023-06-07T08:20:13.570141",
     "exception": false,
     "start_time": "2023-06-07T08:20:13.540955",
     "status": "completed"
    },
    "tags": []
   },
   "outputs": [],
   "source": [
    "# We determined the intervals in which the variable AGE will be split.\n",
    "bins = [0, 18, 23, 30, 40, agg_df[\"AGE\"].max()]"
   ]
  },
  {
   "cell_type": "code",
   "execution_count": 18,
   "id": "d8f28de0",
   "metadata": {
    "execution": {
     "iopub.execute_input": "2023-06-07T08:20:13.612954Z",
     "iopub.status.busy": "2023-06-07T08:20:13.611921Z",
     "iopub.status.idle": "2023-06-07T08:20:13.619308Z",
     "shell.execute_reply": "2023-06-07T08:20:13.617920Z"
    },
    "papermill": {
     "duration": 0.033215,
     "end_time": "2023-06-07T08:20:13.622602",
     "exception": false,
     "start_time": "2023-06-07T08:20:13.589387",
     "status": "completed"
    },
    "tags": []
   },
   "outputs": [],
   "source": [
    "# We have defined what the names - labels - corresponding to the split points will be.\n",
    "cut_labels = [\"0_18\", \"19_23\", \"24_30\", \"31_40\", \"41_\" + str(agg_df[\"AGE\"].max())]"
   ]
  },
  {
   "cell_type": "code",
   "execution_count": 19,
   "id": "2d0f48d4",
   "metadata": {
    "execution": {
     "iopub.execute_input": "2023-06-07T08:20:13.661521Z",
     "iopub.status.busy": "2023-06-07T08:20:13.661080Z",
     "iopub.status.idle": "2023-06-07T08:20:13.670398Z",
     "shell.execute_reply": "2023-06-07T08:20:13.668871Z"
    },
    "papermill": {
     "duration": 0.031927,
     "end_time": "2023-06-07T08:20:13.673206",
     "exception": false,
     "start_time": "2023-06-07T08:20:13.641279",
     "status": "completed"
    },
    "tags": []
   },
   "outputs": [],
   "source": [
    "agg_df[\"cut_age\"] = pd.cut(agg_df[\"AGE\"], bins, labels=cut_labels)"
   ]
  },
  {
   "cell_type": "code",
   "execution_count": 20,
   "id": "e12e9e51",
   "metadata": {
    "execution": {
     "iopub.execute_input": "2023-06-07T08:20:13.713221Z",
     "iopub.status.busy": "2023-06-07T08:20:13.712818Z",
     "iopub.status.idle": "2023-06-07T08:20:13.729200Z",
     "shell.execute_reply": "2023-06-07T08:20:13.727788Z"
    },
    "papermill": {
     "duration": 0.039304,
     "end_time": "2023-06-07T08:20:13.731836",
     "exception": false,
     "start_time": "2023-06-07T08:20:13.692532",
     "status": "completed"
    },
    "tags": []
   },
   "outputs": [
    {
     "data": {
      "text/html": [
       "<div>\n",
       "<style scoped>\n",
       "    .dataframe tbody tr th:only-of-type {\n",
       "        vertical-align: middle;\n",
       "    }\n",
       "\n",
       "    .dataframe tbody tr th {\n",
       "        vertical-align: top;\n",
       "    }\n",
       "\n",
       "    .dataframe thead th {\n",
       "        text-align: right;\n",
       "    }\n",
       "</style>\n",
       "<table border=\"1\" class=\"dataframe\">\n",
       "  <thead>\n",
       "    <tr style=\"text-align: right;\">\n",
       "      <th></th>\n",
       "      <th>COUNTRY</th>\n",
       "      <th>SOURCE</th>\n",
       "      <th>SEX</th>\n",
       "      <th>AGE</th>\n",
       "      <th>PRICE</th>\n",
       "      <th>cut_age</th>\n",
       "    </tr>\n",
       "  </thead>\n",
       "  <tbody>\n",
       "    <tr>\n",
       "      <th>0</th>\n",
       "      <td>bra</td>\n",
       "      <td>android</td>\n",
       "      <td>male</td>\n",
       "      <td>46</td>\n",
       "      <td>59.00</td>\n",
       "      <td>41_66</td>\n",
       "    </tr>\n",
       "    <tr>\n",
       "      <th>1</th>\n",
       "      <td>usa</td>\n",
       "      <td>android</td>\n",
       "      <td>male</td>\n",
       "      <td>36</td>\n",
       "      <td>59.00</td>\n",
       "      <td>31_40</td>\n",
       "    </tr>\n",
       "    <tr>\n",
       "      <th>2</th>\n",
       "      <td>fra</td>\n",
       "      <td>android</td>\n",
       "      <td>female</td>\n",
       "      <td>24</td>\n",
       "      <td>59.00</td>\n",
       "      <td>24_30</td>\n",
       "    </tr>\n",
       "    <tr>\n",
       "      <th>3</th>\n",
       "      <td>usa</td>\n",
       "      <td>ios</td>\n",
       "      <td>male</td>\n",
       "      <td>32</td>\n",
       "      <td>54.00</td>\n",
       "      <td>31_40</td>\n",
       "    </tr>\n",
       "    <tr>\n",
       "      <th>4</th>\n",
       "      <td>deu</td>\n",
       "      <td>android</td>\n",
       "      <td>female</td>\n",
       "      <td>36</td>\n",
       "      <td>49.00</td>\n",
       "      <td>31_40</td>\n",
       "    </tr>\n",
       "  </tbody>\n",
       "</table>\n",
       "</div>"
      ],
      "text/plain": [
       "  COUNTRY   SOURCE     SEX  AGE  PRICE cut_age\n",
       "0     bra  android    male   46  59.00   41_66\n",
       "1     usa  android    male   36  59.00   31_40\n",
       "2     fra  android  female   24  59.00   24_30\n",
       "3     usa      ios    male   32  54.00   31_40\n",
       "4     deu  android  female   36  49.00   31_40"
      ]
     },
     "execution_count": 20,
     "metadata": {},
     "output_type": "execute_result"
    }
   ],
   "source": [
    "agg_df.head()"
   ]
  },
  {
   "cell_type": "code",
   "execution_count": 21,
   "id": "09b40f03",
   "metadata": {
    "execution": {
     "iopub.execute_input": "2023-06-07T08:20:13.769042Z",
     "iopub.status.busy": "2023-06-07T08:20:13.768582Z",
     "iopub.status.idle": "2023-06-07T08:20:13.778801Z",
     "shell.execute_reply": "2023-06-07T08:20:13.777700Z"
    },
    "papermill": {
     "duration": 0.032105,
     "end_time": "2023-06-07T08:20:13.781547",
     "exception": false,
     "start_time": "2023-06-07T08:20:13.749442",
     "status": "completed"
    },
    "tags": []
   },
   "outputs": [],
   "source": [
    "agg_df[\"customer_level_based\"] = [i[0].upper() + \"_\" + i[1].upper() + \"_\" + i[2].upper() + \"_\" + i[5].upper() for i in agg_df.values]   "
   ]
  },
  {
   "cell_type": "code",
   "execution_count": 22,
   "id": "0d86d56b",
   "metadata": {
    "execution": {
     "iopub.execute_input": "2023-06-07T08:20:13.821024Z",
     "iopub.status.busy": "2023-06-07T08:20:13.820544Z",
     "iopub.status.idle": "2023-06-07T08:20:13.836999Z",
     "shell.execute_reply": "2023-06-07T08:20:13.835765Z"
    },
    "papermill": {
     "duration": 0.040093,
     "end_time": "2023-06-07T08:20:13.839530",
     "exception": false,
     "start_time": "2023-06-07T08:20:13.799437",
     "status": "completed"
    },
    "tags": []
   },
   "outputs": [
    {
     "data": {
      "text/html": [
       "<div>\n",
       "<style scoped>\n",
       "    .dataframe tbody tr th:only-of-type {\n",
       "        vertical-align: middle;\n",
       "    }\n",
       "\n",
       "    .dataframe tbody tr th {\n",
       "        vertical-align: top;\n",
       "    }\n",
       "\n",
       "    .dataframe thead th {\n",
       "        text-align: right;\n",
       "    }\n",
       "</style>\n",
       "<table border=\"1\" class=\"dataframe\">\n",
       "  <thead>\n",
       "    <tr style=\"text-align: right;\">\n",
       "      <th></th>\n",
       "      <th>COUNTRY</th>\n",
       "      <th>SOURCE</th>\n",
       "      <th>SEX</th>\n",
       "      <th>AGE</th>\n",
       "      <th>PRICE</th>\n",
       "      <th>cut_age</th>\n",
       "      <th>customer_level_based</th>\n",
       "    </tr>\n",
       "  </thead>\n",
       "  <tbody>\n",
       "    <tr>\n",
       "      <th>0</th>\n",
       "      <td>bra</td>\n",
       "      <td>android</td>\n",
       "      <td>male</td>\n",
       "      <td>46</td>\n",
       "      <td>59.00</td>\n",
       "      <td>41_66</td>\n",
       "      <td>BRA_ANDROID_MALE_41_66</td>\n",
       "    </tr>\n",
       "    <tr>\n",
       "      <th>1</th>\n",
       "      <td>usa</td>\n",
       "      <td>android</td>\n",
       "      <td>male</td>\n",
       "      <td>36</td>\n",
       "      <td>59.00</td>\n",
       "      <td>31_40</td>\n",
       "      <td>USA_ANDROID_MALE_31_40</td>\n",
       "    </tr>\n",
       "    <tr>\n",
       "      <th>2</th>\n",
       "      <td>fra</td>\n",
       "      <td>android</td>\n",
       "      <td>female</td>\n",
       "      <td>24</td>\n",
       "      <td>59.00</td>\n",
       "      <td>24_30</td>\n",
       "      <td>FRA_ANDROID_FEMALE_24_30</td>\n",
       "    </tr>\n",
       "    <tr>\n",
       "      <th>3</th>\n",
       "      <td>usa</td>\n",
       "      <td>ios</td>\n",
       "      <td>male</td>\n",
       "      <td>32</td>\n",
       "      <td>54.00</td>\n",
       "      <td>31_40</td>\n",
       "      <td>USA_IOS_MALE_31_40</td>\n",
       "    </tr>\n",
       "    <tr>\n",
       "      <th>4</th>\n",
       "      <td>deu</td>\n",
       "      <td>android</td>\n",
       "      <td>female</td>\n",
       "      <td>36</td>\n",
       "      <td>49.00</td>\n",
       "      <td>31_40</td>\n",
       "      <td>DEU_ANDROID_FEMALE_31_40</td>\n",
       "    </tr>\n",
       "  </tbody>\n",
       "</table>\n",
       "</div>"
      ],
      "text/plain": [
       "  COUNTRY   SOURCE     SEX  AGE  PRICE cut_age      customer_level_based\n",
       "0     bra  android    male   46  59.00   41_66    BRA_ANDROID_MALE_41_66\n",
       "1     usa  android    male   36  59.00   31_40    USA_ANDROID_MALE_31_40\n",
       "2     fra  android  female   24  59.00   24_30  FRA_ANDROID_FEMALE_24_30\n",
       "3     usa      ios    male   32  54.00   31_40        USA_IOS_MALE_31_40\n",
       "4     deu  android  female   36  49.00   31_40  DEU_ANDROID_FEMALE_31_40"
      ]
     },
     "execution_count": 22,
     "metadata": {},
     "output_type": "execute_result"
    }
   ],
   "source": [
    "agg_df.head()"
   ]
  },
  {
   "cell_type": "code",
   "execution_count": 23,
   "id": "0f0c71f9",
   "metadata": {
    "execution": {
     "iopub.execute_input": "2023-06-07T08:20:13.879191Z",
     "iopub.status.busy": "2023-06-07T08:20:13.878769Z",
     "iopub.status.idle": "2023-06-07T08:20:13.886457Z",
     "shell.execute_reply": "2023-06-07T08:20:13.884928Z"
    },
    "papermill": {
     "duration": 0.030948,
     "end_time": "2023-06-07T08:20:13.890020",
     "exception": false,
     "start_time": "2023-06-07T08:20:13.859072",
     "status": "completed"
    },
    "tags": []
   },
   "outputs": [],
   "source": [
    "agg_df = agg_df[[\"customer_level_based\", \"PRICE\"]]"
   ]
  },
  {
   "cell_type": "code",
   "execution_count": 24,
   "id": "0ed0e618",
   "metadata": {
    "execution": {
     "iopub.execute_input": "2023-06-07T08:20:13.929791Z",
     "iopub.status.busy": "2023-06-07T08:20:13.929323Z",
     "iopub.status.idle": "2023-06-07T08:20:13.942760Z",
     "shell.execute_reply": "2023-06-07T08:20:13.940874Z"
    },
    "papermill": {
     "duration": 0.037313,
     "end_time": "2023-06-07T08:20:13.945344",
     "exception": false,
     "start_time": "2023-06-07T08:20:13.908031",
     "status": "completed"
    },
    "tags": []
   },
   "outputs": [
    {
     "data": {
      "text/html": [
       "<div>\n",
       "<style scoped>\n",
       "    .dataframe tbody tr th:only-of-type {\n",
       "        vertical-align: middle;\n",
       "    }\n",
       "\n",
       "    .dataframe tbody tr th {\n",
       "        vertical-align: top;\n",
       "    }\n",
       "\n",
       "    .dataframe thead th {\n",
       "        text-align: right;\n",
       "    }\n",
       "</style>\n",
       "<table border=\"1\" class=\"dataframe\">\n",
       "  <thead>\n",
       "    <tr style=\"text-align: right;\">\n",
       "      <th></th>\n",
       "      <th>customer_level_based</th>\n",
       "      <th>PRICE</th>\n",
       "    </tr>\n",
       "  </thead>\n",
       "  <tbody>\n",
       "    <tr>\n",
       "      <th>0</th>\n",
       "      <td>BRA_ANDROID_MALE_41_66</td>\n",
       "      <td>59.00</td>\n",
       "    </tr>\n",
       "    <tr>\n",
       "      <th>1</th>\n",
       "      <td>USA_ANDROID_MALE_31_40</td>\n",
       "      <td>59.00</td>\n",
       "    </tr>\n",
       "    <tr>\n",
       "      <th>2</th>\n",
       "      <td>FRA_ANDROID_FEMALE_24_30</td>\n",
       "      <td>59.00</td>\n",
       "    </tr>\n",
       "    <tr>\n",
       "      <th>3</th>\n",
       "      <td>USA_IOS_MALE_31_40</td>\n",
       "      <td>54.00</td>\n",
       "    </tr>\n",
       "    <tr>\n",
       "      <th>4</th>\n",
       "      <td>DEU_ANDROID_FEMALE_31_40</td>\n",
       "      <td>49.00</td>\n",
       "    </tr>\n",
       "  </tbody>\n",
       "</table>\n",
       "</div>"
      ],
      "text/plain": [
       "       customer_level_based  PRICE\n",
       "0    BRA_ANDROID_MALE_41_66  59.00\n",
       "1    USA_ANDROID_MALE_31_40  59.00\n",
       "2  FRA_ANDROID_FEMALE_24_30  59.00\n",
       "3        USA_IOS_MALE_31_40  54.00\n",
       "4  DEU_ANDROID_FEMALE_31_40  49.00"
      ]
     },
     "execution_count": 24,
     "metadata": {},
     "output_type": "execute_result"
    }
   ],
   "source": [
    "agg_df.head()"
   ]
  },
  {
   "cell_type": "code",
   "execution_count": 25,
   "id": "64c4d6b1",
   "metadata": {
    "execution": {
     "iopub.execute_input": "2023-06-07T08:20:13.986765Z",
     "iopub.status.busy": "2023-06-07T08:20:13.986270Z",
     "iopub.status.idle": "2023-06-07T08:20:13.994292Z",
     "shell.execute_reply": "2023-06-07T08:20:13.993318Z"
    },
    "papermill": {
     "duration": 0.033214,
     "end_time": "2023-06-07T08:20:13.997585",
     "exception": false,
     "start_time": "2023-06-07T08:20:13.964371",
     "status": "completed"
    },
    "tags": []
   },
   "outputs": [],
   "source": [
    "agg_df = agg_df.groupby(\"customer_level_based\").agg({\"PRICE\": \"mean\"})"
   ]
  },
  {
   "cell_type": "code",
   "execution_count": 26,
   "id": "fc1fa72e",
   "metadata": {
    "execution": {
     "iopub.execute_input": "2023-06-07T08:20:14.043626Z",
     "iopub.status.busy": "2023-06-07T08:20:14.043058Z",
     "iopub.status.idle": "2023-06-07T08:20:14.054785Z",
     "shell.execute_reply": "2023-06-07T08:20:14.053408Z"
    },
    "papermill": {
     "duration": 0.036464,
     "end_time": "2023-06-07T08:20:14.058849",
     "exception": false,
     "start_time": "2023-06-07T08:20:14.022385",
     "status": "completed"
    },
    "tags": []
   },
   "outputs": [
    {
     "data": {
      "text/html": [
       "<div>\n",
       "<style scoped>\n",
       "    .dataframe tbody tr th:only-of-type {\n",
       "        vertical-align: middle;\n",
       "    }\n",
       "\n",
       "    .dataframe tbody tr th {\n",
       "        vertical-align: top;\n",
       "    }\n",
       "\n",
       "    .dataframe thead th {\n",
       "        text-align: right;\n",
       "    }\n",
       "</style>\n",
       "<table border=\"1\" class=\"dataframe\">\n",
       "  <thead>\n",
       "    <tr style=\"text-align: right;\">\n",
       "      <th></th>\n",
       "      <th>PRICE</th>\n",
       "    </tr>\n",
       "    <tr>\n",
       "      <th>customer_level_based</th>\n",
       "      <th></th>\n",
       "    </tr>\n",
       "  </thead>\n",
       "  <tbody>\n",
       "    <tr>\n",
       "      <th>BRA_ANDROID_FEMALE_0_18</th>\n",
       "      <td>35.65</td>\n",
       "    </tr>\n",
       "    <tr>\n",
       "      <th>BRA_ANDROID_FEMALE_19_23</th>\n",
       "      <td>34.08</td>\n",
       "    </tr>\n",
       "    <tr>\n",
       "      <th>BRA_ANDROID_FEMALE_24_30</th>\n",
       "      <td>33.86</td>\n",
       "    </tr>\n",
       "    <tr>\n",
       "      <th>BRA_ANDROID_FEMALE_31_40</th>\n",
       "      <td>34.90</td>\n",
       "    </tr>\n",
       "    <tr>\n",
       "      <th>BRA_ANDROID_FEMALE_41_66</th>\n",
       "      <td>36.74</td>\n",
       "    </tr>\n",
       "  </tbody>\n",
       "</table>\n",
       "</div>"
      ],
      "text/plain": [
       "                          PRICE\n",
       "customer_level_based           \n",
       "BRA_ANDROID_FEMALE_0_18   35.65\n",
       "BRA_ANDROID_FEMALE_19_23  34.08\n",
       "BRA_ANDROID_FEMALE_24_30  33.86\n",
       "BRA_ANDROID_FEMALE_31_40  34.90\n",
       "BRA_ANDROID_FEMALE_41_66  36.74"
      ]
     },
     "execution_count": 26,
     "metadata": {},
     "output_type": "execute_result"
    }
   ],
   "source": [
    "agg_df.head()"
   ]
  },
  {
   "cell_type": "code",
   "execution_count": 27,
   "id": "6cf8e049",
   "metadata": {
    "execution": {
     "iopub.execute_input": "2023-06-07T08:20:14.100314Z",
     "iopub.status.busy": "2023-06-07T08:20:14.099885Z",
     "iopub.status.idle": "2023-06-07T08:20:14.107211Z",
     "shell.execute_reply": "2023-06-07T08:20:14.105192Z"
    },
    "papermill": {
     "duration": 0.032279,
     "end_time": "2023-06-07T08:20:14.110725",
     "exception": false,
     "start_time": "2023-06-07T08:20:14.078446",
     "status": "completed"
    },
    "tags": []
   },
   "outputs": [],
   "source": [
    "agg_df = agg_df.reset_index()"
   ]
  },
  {
   "cell_type": "code",
   "execution_count": 28,
   "id": "097d108f",
   "metadata": {
    "execution": {
     "iopub.execute_input": "2023-06-07T08:20:14.153353Z",
     "iopub.status.busy": "2023-06-07T08:20:14.152930Z",
     "iopub.status.idle": "2023-06-07T08:20:14.165983Z",
     "shell.execute_reply": "2023-06-07T08:20:14.163981Z"
    },
    "papermill": {
     "duration": 0.036617,
     "end_time": "2023-06-07T08:20:14.169173",
     "exception": false,
     "start_time": "2023-06-07T08:20:14.132556",
     "status": "completed"
    },
    "tags": []
   },
   "outputs": [
    {
     "data": {
      "text/html": [
       "<div>\n",
       "<style scoped>\n",
       "    .dataframe tbody tr th:only-of-type {\n",
       "        vertical-align: middle;\n",
       "    }\n",
       "\n",
       "    .dataframe tbody tr th {\n",
       "        vertical-align: top;\n",
       "    }\n",
       "\n",
       "    .dataframe thead th {\n",
       "        text-align: right;\n",
       "    }\n",
       "</style>\n",
       "<table border=\"1\" class=\"dataframe\">\n",
       "  <thead>\n",
       "    <tr style=\"text-align: right;\">\n",
       "      <th></th>\n",
       "      <th>customer_level_based</th>\n",
       "      <th>PRICE</th>\n",
       "    </tr>\n",
       "  </thead>\n",
       "  <tbody>\n",
       "    <tr>\n",
       "      <th>0</th>\n",
       "      <td>BRA_ANDROID_FEMALE_0_18</td>\n",
       "      <td>35.65</td>\n",
       "    </tr>\n",
       "    <tr>\n",
       "      <th>1</th>\n",
       "      <td>BRA_ANDROID_FEMALE_19_23</td>\n",
       "      <td>34.08</td>\n",
       "    </tr>\n",
       "    <tr>\n",
       "      <th>2</th>\n",
       "      <td>BRA_ANDROID_FEMALE_24_30</td>\n",
       "      <td>33.86</td>\n",
       "    </tr>\n",
       "    <tr>\n",
       "      <th>3</th>\n",
       "      <td>BRA_ANDROID_FEMALE_31_40</td>\n",
       "      <td>34.90</td>\n",
       "    </tr>\n",
       "    <tr>\n",
       "      <th>4</th>\n",
       "      <td>BRA_ANDROID_FEMALE_41_66</td>\n",
       "      <td>36.74</td>\n",
       "    </tr>\n",
       "  </tbody>\n",
       "</table>\n",
       "</div>"
      ],
      "text/plain": [
       "       customer_level_based  PRICE\n",
       "0   BRA_ANDROID_FEMALE_0_18  35.65\n",
       "1  BRA_ANDROID_FEMALE_19_23  34.08\n",
       "2  BRA_ANDROID_FEMALE_24_30  33.86\n",
       "3  BRA_ANDROID_FEMALE_31_40  34.90\n",
       "4  BRA_ANDROID_FEMALE_41_66  36.74"
      ]
     },
     "execution_count": 28,
     "metadata": {},
     "output_type": "execute_result"
    }
   ],
   "source": [
    "agg_df.head()"
   ]
  },
  {
   "cell_type": "code",
   "execution_count": 29,
   "id": "bb218585",
   "metadata": {
    "execution": {
     "iopub.execute_input": "2023-06-07T08:20:14.210394Z",
     "iopub.status.busy": "2023-06-07T08:20:14.209829Z",
     "iopub.status.idle": "2023-06-07T08:20:14.221779Z",
     "shell.execute_reply": "2023-06-07T08:20:14.220048Z"
    },
    "papermill": {
     "duration": 0.036577,
     "end_time": "2023-06-07T08:20:14.224789",
     "exception": false,
     "start_time": "2023-06-07T08:20:14.188212",
     "status": "completed"
    },
    "tags": []
   },
   "outputs": [],
   "source": [
    "agg_df[\"SEGMENT\"] = pd.qcut(agg_df[\"PRICE\"], 4, labels=[\"D\", \"C\", \"B\", \"A\"])"
   ]
  },
  {
   "cell_type": "code",
   "execution_count": 30,
   "id": "0b9c49a8",
   "metadata": {
    "execution": {
     "iopub.execute_input": "2023-06-07T08:20:14.265089Z",
     "iopub.status.busy": "2023-06-07T08:20:14.264595Z",
     "iopub.status.idle": "2023-06-07T08:20:14.281048Z",
     "shell.execute_reply": "2023-06-07T08:20:14.279412Z"
    },
    "papermill": {
     "duration": 0.039735,
     "end_time": "2023-06-07T08:20:14.284017",
     "exception": false,
     "start_time": "2023-06-07T08:20:14.244282",
     "status": "completed"
    },
    "tags": []
   },
   "outputs": [
    {
     "data": {
      "text/html": [
       "<div>\n",
       "<style scoped>\n",
       "    .dataframe tbody tr th:only-of-type {\n",
       "        vertical-align: middle;\n",
       "    }\n",
       "\n",
       "    .dataframe tbody tr th {\n",
       "        vertical-align: top;\n",
       "    }\n",
       "\n",
       "    .dataframe thead th {\n",
       "        text-align: right;\n",
       "    }\n",
       "</style>\n",
       "<table border=\"1\" class=\"dataframe\">\n",
       "  <thead>\n",
       "    <tr style=\"text-align: right;\">\n",
       "      <th></th>\n",
       "      <th>PRICE</th>\n",
       "    </tr>\n",
       "    <tr>\n",
       "      <th>SEGMENT</th>\n",
       "      <th></th>\n",
       "    </tr>\n",
       "  </thead>\n",
       "  <tbody>\n",
       "    <tr>\n",
       "      <th>D</th>\n",
       "      <td>29.21</td>\n",
       "    </tr>\n",
       "    <tr>\n",
       "      <th>C</th>\n",
       "      <td>33.51</td>\n",
       "    </tr>\n",
       "    <tr>\n",
       "      <th>B</th>\n",
       "      <td>35.00</td>\n",
       "    </tr>\n",
       "    <tr>\n",
       "      <th>A</th>\n",
       "      <td>38.69</td>\n",
       "    </tr>\n",
       "  </tbody>\n",
       "</table>\n",
       "</div>"
      ],
      "text/plain": [
       "         PRICE\n",
       "SEGMENT       \n",
       "D        29.21\n",
       "C        33.51\n",
       "B        35.00\n",
       "A        38.69"
      ]
     },
     "execution_count": 30,
     "metadata": {},
     "output_type": "execute_result"
    }
   ],
   "source": [
    "agg_df.groupby(\"SEGMENT\").agg({\"PRICE\": \"mean\"})"
   ]
  },
  {
   "cell_type": "code",
   "execution_count": 31,
   "id": "22e1c531",
   "metadata": {
    "execution": {
     "iopub.execute_input": "2023-06-07T08:20:14.326751Z",
     "iopub.status.busy": "2023-06-07T08:20:14.326154Z",
     "iopub.status.idle": "2023-06-07T08:20:14.333884Z",
     "shell.execute_reply": "2023-06-07T08:20:14.331804Z"
    },
    "papermill": {
     "duration": 0.031722,
     "end_time": "2023-06-07T08:20:14.337293",
     "exception": false,
     "start_time": "2023-06-07T08:20:14.305571",
     "status": "completed"
    },
    "tags": []
   },
   "outputs": [],
   "source": [
    "new_persona_1 = \"TUR_ANDROID_FEMALE_31_40\""
   ]
  },
  {
   "cell_type": "code",
   "execution_count": 32,
   "id": "26d81fab",
   "metadata": {
    "execution": {
     "iopub.execute_input": "2023-06-07T08:20:14.382939Z",
     "iopub.status.busy": "2023-06-07T08:20:14.382464Z",
     "iopub.status.idle": "2023-06-07T08:20:14.398177Z",
     "shell.execute_reply": "2023-06-07T08:20:14.396966Z"
    },
    "papermill": {
     "duration": 0.042074,
     "end_time": "2023-06-07T08:20:14.402023",
     "exception": false,
     "start_time": "2023-06-07T08:20:14.359949",
     "status": "completed"
    },
    "tags": []
   },
   "outputs": [
    {
     "data": {
      "text/html": [
       "<div>\n",
       "<style scoped>\n",
       "    .dataframe tbody tr th:only-of-type {\n",
       "        vertical-align: middle;\n",
       "    }\n",
       "\n",
       "    .dataframe tbody tr th {\n",
       "        vertical-align: top;\n",
       "    }\n",
       "\n",
       "    .dataframe thead th {\n",
       "        text-align: right;\n",
       "    }\n",
       "</style>\n",
       "<table border=\"1\" class=\"dataframe\">\n",
       "  <thead>\n",
       "    <tr style=\"text-align: right;\">\n",
       "      <th></th>\n",
       "      <th>customer_level_based</th>\n",
       "      <th>PRICE</th>\n",
       "      <th>SEGMENT</th>\n",
       "    </tr>\n",
       "  </thead>\n",
       "  <tbody>\n",
       "    <tr>\n",
       "      <th>72</th>\n",
       "      <td>TUR_ANDROID_FEMALE_31_40</td>\n",
       "      <td>41.83</td>\n",
       "      <td>A</td>\n",
       "    </tr>\n",
       "  </tbody>\n",
       "</table>\n",
       "</div>"
      ],
      "text/plain": [
       "        customer_level_based  PRICE SEGMENT\n",
       "72  TUR_ANDROID_FEMALE_31_40  41.83       A"
      ]
     },
     "execution_count": 32,
     "metadata": {},
     "output_type": "execute_result"
    }
   ],
   "source": [
    "agg_df[agg_df[\"customer_level_based\"] == new_persona_1]"
   ]
  },
  {
   "cell_type": "code",
   "execution_count": 33,
   "id": "ad911c58",
   "metadata": {
    "execution": {
     "iopub.execute_input": "2023-06-07T08:20:14.444277Z",
     "iopub.status.busy": "2023-06-07T08:20:14.443606Z",
     "iopub.status.idle": "2023-06-07T08:20:14.448970Z",
     "shell.execute_reply": "2023-06-07T08:20:14.447761Z"
    },
    "papermill": {
     "duration": 0.029885,
     "end_time": "2023-06-07T08:20:14.451354",
     "exception": false,
     "start_time": "2023-06-07T08:20:14.421469",
     "status": "completed"
    },
    "tags": []
   },
   "outputs": [],
   "source": [
    "new_persona_2 = \"FRA_IOS_FEMALE_31_40\""
   ]
  },
  {
   "cell_type": "code",
   "execution_count": 34,
   "id": "0988976c",
   "metadata": {
    "execution": {
     "iopub.execute_input": "2023-06-07T08:20:14.496352Z",
     "iopub.status.busy": "2023-06-07T08:20:14.494597Z",
     "iopub.status.idle": "2023-06-07T08:20:14.509777Z",
     "shell.execute_reply": "2023-06-07T08:20:14.508174Z"
    },
    "papermill": {
     "duration": 0.040385,
     "end_time": "2023-06-07T08:20:14.513291",
     "exception": false,
     "start_time": "2023-06-07T08:20:14.472906",
     "status": "completed"
    },
    "tags": []
   },
   "outputs": [
    {
     "data": {
      "text/html": [
       "<div>\n",
       "<style scoped>\n",
       "    .dataframe tbody tr th:only-of-type {\n",
       "        vertical-align: middle;\n",
       "    }\n",
       "\n",
       "    .dataframe tbody tr th {\n",
       "        vertical-align: top;\n",
       "    }\n",
       "\n",
       "    .dataframe thead th {\n",
       "        text-align: right;\n",
       "    }\n",
       "</style>\n",
       "<table border=\"1\" class=\"dataframe\">\n",
       "  <thead>\n",
       "    <tr style=\"text-align: right;\">\n",
       "      <th></th>\n",
       "      <th>customer_level_based</th>\n",
       "      <th>PRICE</th>\n",
       "      <th>SEGMENT</th>\n",
       "    </tr>\n",
       "  </thead>\n",
       "  <tbody>\n",
       "    <tr>\n",
       "      <th>63</th>\n",
       "      <td>FRA_IOS_FEMALE_31_40</td>\n",
       "      <td>32.82</td>\n",
       "      <td>C</td>\n",
       "    </tr>\n",
       "  </tbody>\n",
       "</table>\n",
       "</div>"
      ],
      "text/plain": [
       "    customer_level_based  PRICE SEGMENT\n",
       "63  FRA_IOS_FEMALE_31_40  32.82       C"
      ]
     },
     "execution_count": 34,
     "metadata": {},
     "output_type": "execute_result"
    }
   ],
   "source": [
    "agg_df[agg_df[\"customer_level_based\"] == new_persona_2]"
   ]
  }
 ],
 "metadata": {
  "kernelspec": {
   "display_name": "Python 3",
   "language": "python",
   "name": "python3"
  },
  "language_info": {
   "codemirror_mode": {
    "name": "ipython",
    "version": 3
   },
   "file_extension": ".py",
   "mimetype": "text/x-python",
   "name": "python",
   "nbconvert_exporter": "python",
   "pygments_lexer": "ipython3",
   "version": "3.10.10"
  },
  "papermill": {
   "default_parameters": {},
   "duration": 24.480126,
   "end_time": "2023-06-07T08:20:15.859223",
   "environment_variables": {},
   "exception": null,
   "input_path": "__notebook__.ipynb",
   "output_path": "__notebook__.ipynb",
   "parameters": {},
   "start_time": "2023-06-07T08:19:51.379097",
   "version": "2.4.0"
  }
 },
 "nbformat": 4,
 "nbformat_minor": 5
}
